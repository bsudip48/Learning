{
 "cells": [
  {
   "cell_type": "markdown",
   "metadata": {},
   "source": [
    "# Exploring San Francisco International Airport Landings Statistics Data"
   ]
  },
  {
   "cell_type": "markdown",
   "metadata": {},
   "source": [
    "For detailed information about the dataset, please visit [their official website](https://data.sfgov.org/Transportation/Air-Traffic-Landings-Statistics/fpux-q53t)."
   ]
  },
  {
   "cell_type": "markdown",
   "metadata": {},
   "source": [
    " "
   ]
  },
  {
   "cell_type": "markdown",
   "metadata": {},
   "source": [
    " "
   ]
  },
  {
   "cell_type": "markdown",
   "metadata": {},
   "source": [
    "### Downloading the data file"
   ]
  },
  {
   "cell_type": "markdown",
   "metadata": {},
   "source": [
    "First we send a HTTP GET request and fetch the data"
   ]
  },
  {
   "cell_type": "code",
   "execution_count": 1,
   "metadata": {},
   "outputs": [
    {
     "name": "stdout",
     "output_type": "stream",
     "text": [
      "Data successfully received\n"
     ]
    }
   ],
   "source": [
    "import requests\n",
    "\n",
    "download_file = requests.get('https://data.sfgov.org/api/views/fpux-q53t/rows.csv?accessType=DOWNLOAD')\n",
    "if download_file.status_code != 200:\n",
    "    print('Error while fetching the data')\n",
    "else:\n",
    "    print('Data successfully received')"
   ]
  },
  {
   "cell_type": "markdown",
   "metadata": {},
   "source": [
    "Let's look at the location where this data will be saved."
   ]
  },
  {
   "cell_type": "code",
   "execution_count": 2,
   "metadata": {},
   "outputs": [
    {
     "name": "stdout",
     "output_type": "stream",
     "text": [
      "Data will be saved in: c:\\users\\sudip.a.banerjee\\pycharmprojects\\learning\\venv\\lib\\site-packages\\Air_Traffic_Landings_Statistics.csv\n"
     ]
    }
   ],
   "source": [
    "import os\n",
    "import sys\n",
    "\n",
    "filename = os.path.join(os.path.dirname(sys.argv[0]), download_file.headers['content-disposition'].split(';')[-1].strip().split('=')[-1])\n",
    "print('Data will be saved in: ' + filename)"
   ]
  },
  {
   "cell_type": "markdown",
   "metadata": {},
   "source": [
    "Now we save the data in a CSV file"
   ]
  },
  {
   "cell_type": "code",
   "execution_count": 3,
   "metadata": {},
   "outputs": [],
   "source": [
    "op_file = open(filename, 'wb')\n",
    "op_file.write(download_file.content)\n",
    "op_file.close()"
   ]
  },
  {
   "cell_type": "markdown",
   "metadata": {},
   "source": [
    "Let's see the top 5 rows of the file"
   ]
  },
  {
   "cell_type": "code",
   "execution_count": 4,
   "metadata": {},
   "outputs": [
    {
     "name": "stdout",
     "output_type": "stream",
     "text": [
      "Activity Period,Operating Airline,Operating Airline IATA Code,Published Airline,Published Airline IATA Code,GEO Summary,GEO Region,Landing Aircraft Type,Aircraft Body Type,Aircraft Manufacturer,Aircraft Model,Aircraft Version,Landing Count,Total Landed Weight\n",
      "\n",
      "200507,ABX Air,GB,ABX Air,GB,Domestic,US,Freighter,Narrow Body,McDonnell Douglas,DC-9,30,40,4066000\n",
      "\n",
      "200507,ABX Air,GB,ABX Air,GB,Domestic,US,Freighter,Narrow Body,McDonnell Douglas,DC-9,41,1,102000\n",
      "\n",
      "200507,ATA Airlines,TZ,ATA Airlines,TZ,Domestic,US,Passenger,Narrow Body,Boeing,757,200,2,396000\n",
      "\n",
      "200507,ATA Airlines,TZ,ATA Airlines,TZ,Domestic,US,Passenger,Narrow Body,Boeing,757,300,167,37408000\n",
      "\n"
     ]
    }
   ],
   "source": [
    "file = open(filename, 'r')\n",
    "for _ in range(5):\n",
    "    print(file.readline())\n",
    "file.close()"
   ]
  },
  {
   "cell_type": "markdown",
   "metadata": {},
   "source": [
    " "
   ]
  },
  {
   "cell_type": "markdown",
   "metadata": {},
   "source": [
    " "
   ]
  },
  {
   "cell_type": "markdown",
   "metadata": {},
   "source": [
    "### Reading the file in Spark"
   ]
  },
  {
   "cell_type": "markdown",
   "metadata": {},
   "source": [
    "We'll be using Spark's DataFrame API. So let's initiate a SparkSession\n",
    "\n",
    "We're enabling the eager execution for Spark. This is enabled to get a good view of the DataFrame in the Notebook, which isn't possible after we call an action.\n",
    "\n",
    "> NOTE: This isn't advised in case of production environment."
   ]
  },
  {
   "cell_type": "code",
   "execution_count": 5,
   "metadata": {},
   "outputs": [],
   "source": [
    "from pyspark.sql import SparkSession\n",
    "\n",
    "spark = SparkSession.builder.appName('SF_Landing_Statistics').config('spark.sql.repl.eagerEval.enabled', 'True').getOrCreate()"
   ]
  },
  {
   "cell_type": "markdown",
   "metadata": {},
   "source": [
    "Reading the CSV file"
   ]
  },
  {
   "cell_type": "code",
   "execution_count": 6,
   "metadata": {},
   "outputs": [],
   "source": [
    "from pyspark.sql.types import StructType, StructField, IntegerType, StringType\n",
    "\n",
    "schema = StructType([\n",
    "                StructField('ActivityPeriod', IntegerType(), True)\n",
    "                , StructField('OperatingAirline', StringType(), True)\n",
    "                , StructField('OperatingAirlineIATACode', StringType(), True)\n",
    "                , StructField('PublishedAirline', StringType(), True)\n",
    "                , StructField('PublishedAirlineIATACode', StringType(), True)\n",
    "                , StructField('GEOSummary', StringType(), True)\n",
    "                , StructField('GEORegion', StringType(), True)\n",
    "                , StructField('LandingAircraftType', StringType(), True)\n",
    "                , StructField('AircraftBodyType', StringType(), True)\n",
    "                , StructField('AircraftManufacturer', StringType(), True)\n",
    "                , StructField('AircraftModel', StringType(), True)\n",
    "                , StructField('AircraftVersion', StringType(), True)\n",
    "                , StructField('LandingCount', IntegerType(), True)\n",
    "                , StructField('TotalLandedWeight', IntegerType(), True)\n",
    "            ])\n",
    "input_data = spark.read.csv(filename, header=True, sep=',', schema=schema)"
   ]
  },
  {
   "cell_type": "markdown",
   "metadata": {},
   "source": [
    "Let's see the top 5 rows of the DataFrame"
   ]
  },
  {
   "cell_type": "code",
   "execution_count": 7,
   "metadata": {},
   "outputs": [
    {
     "data": {
      "text/html": [
       "<table border='1'>\n",
       "<tr><th>ActivityPeriod</th><th>OperatingAirline</th><th>OperatingAirlineIATACode</th><th>PublishedAirline</th><th>PublishedAirlineIATACode</th><th>GEOSummary</th><th>GEORegion</th><th>LandingAircraftType</th><th>AircraftBodyType</th><th>AircraftManufacturer</th><th>AircraftModel</th><th>AircraftVersion</th><th>LandingCount</th><th>TotalLandedWeight</th></tr>\n",
       "<tr><td>200507</td><td>ABX Air</td><td>GB</td><td>ABX Air</td><td>GB</td><td>Domestic</td><td>US</td><td>Freighter</td><td>Narrow Body</td><td>McDonnell Douglas</td><td>DC-9</td><td>30</td><td>40</td><td>4066000</td></tr>\n",
       "<tr><td>200507</td><td>ABX Air</td><td>GB</td><td>ABX Air</td><td>GB</td><td>Domestic</td><td>US</td><td>Freighter</td><td>Narrow Body</td><td>McDonnell Douglas</td><td>DC-9</td><td>41</td><td>1</td><td>102000</td></tr>\n",
       "<tr><td>200507</td><td>ATA Airlines</td><td>TZ</td><td>ATA Airlines</td><td>TZ</td><td>Domestic</td><td>US</td><td>Passenger</td><td>Narrow Body</td><td>Boeing</td><td>757</td><td>200</td><td>2</td><td>396000</td></tr>\n",
       "<tr><td>200507</td><td>ATA Airlines</td><td>TZ</td><td>ATA Airlines</td><td>TZ</td><td>Domestic</td><td>US</td><td>Passenger</td><td>Narrow Body</td><td>Boeing</td><td>757</td><td>300</td><td>167</td><td>37408000</td></tr>\n",
       "<tr><td>200507</td><td>Air Canada</td><td>AC</td><td>Air Canada</td><td>AC</td><td>International</td><td>Canada</td><td>Passenger</td><td>Wide Body</td><td>Boeing</td><td>767</td><td>333</td><td>1</td><td>320000</td></tr>\n",
       "</table>\n"
      ],
      "text/plain": [
       "+--------------+----------------+------------------------+----------------+------------------------+-------------+---------+-------------------+----------------+--------------------+-------------+---------------+------------+-----------------+\n",
       "|ActivityPeriod|OperatingAirline|OperatingAirlineIATACode|PublishedAirline|PublishedAirlineIATACode|   GEOSummary|GEORegion|LandingAircraftType|AircraftBodyType|AircraftManufacturer|AircraftModel|AircraftVersion|LandingCount|TotalLandedWeight|\n",
       "+--------------+----------------+------------------------+----------------+------------------------+-------------+---------+-------------------+----------------+--------------------+-------------+---------------+------------+-----------------+\n",
       "|        200507|         ABX Air|                      GB|         ABX Air|                      GB|     Domestic|       US|          Freighter|     Narrow Body|   McDonnell Douglas|         DC-9|             30|          40|          4066000|\n",
       "|        200507|         ABX Air|                      GB|         ABX Air|                      GB|     Domestic|       US|          Freighter|     Narrow Body|   McDonnell Douglas|         DC-9|             41|           1|           102000|\n",
       "|        200507|    ATA Airlines|                      TZ|    ATA Airlines|                      TZ|     Domestic|       US|          Passenger|     Narrow Body|              Boeing|          757|            200|           2|           396000|\n",
       "|        200507|    ATA Airlines|                      TZ|    ATA Airlines|                      TZ|     Domestic|       US|          Passenger|     Narrow Body|              Boeing|          757|            300|         167|         37408000|\n",
       "|        200507|      Air Canada|                      AC|      Air Canada|                      AC|International|   Canada|          Passenger|       Wide Body|              Boeing|          767|            333|           1|           320000|\n",
       "+--------------+----------------+------------------------+----------------+------------------------+-------------+---------+-------------------+----------------+--------------------+-------------+---------------+------------+-----------------+"
      ]
     },
     "execution_count": 7,
     "metadata": {},
     "output_type": "execute_result"
    }
   ],
   "source": [
    "input_data.limit(5)"
   ]
  },
  {
   "cell_type": "markdown",
   "metadata": {},
   "source": [
    " "
   ]
  },
  {
   "cell_type": "markdown",
   "metadata": {},
   "source": [
    " "
   ]
  },
  {
   "cell_type": "code",
   "execution_count": 8,
   "metadata": {},
   "outputs": [
    {
     "data": {
      "text/html": [
       "<table border='1'>\n",
       "<tr><th>LandingAircraftType</th><th>OperatingAirline</th><th>TotalLandingCount</th></tr>\n",
       "<tr><td>Passenger</td><td>SkyWest Airlines</td><td>615024</td></tr>\n",
       "<tr><td>Passenger</td><td>United Airlines</td><td>455200</td></tr>\n",
       "<tr><td>Passenger</td><td>United Airlines -...</td><td>372934</td></tr>\n",
       "<tr><td>Passenger</td><td>Southwest Airlines</td><td>178115</td></tr>\n",
       "<tr><td>Passenger</td><td>American Airlines</td><td>173105</td></tr>\n",
       "</table>\n"
      ],
      "text/plain": [
       "+-------------------+--------------------+-----------------+\n",
       "|LandingAircraftType|    OperatingAirline|TotalLandingCount|\n",
       "+-------------------+--------------------+-----------------+\n",
       "|          Passenger|    SkyWest Airlines|           615024|\n",
       "|          Passenger|     United Airlines|           455200|\n",
       "|          Passenger|United Airlines -...|           372934|\n",
       "|          Passenger|  Southwest Airlines|           178115|\n",
       "|          Passenger|   American Airlines|           173105|\n",
       "+-------------------+--------------------+-----------------+"
      ]
     },
     "execution_count": 8,
     "metadata": {},
     "output_type": "execute_result"
    }
   ],
   "source": [
    "from pyspark.sql.functions import sum\n",
    "\n",
    "input_data.select('LandingAircraftType', 'OperatingAirline', 'LandingCount')\\\n",
    "        .groupBy('LandingAircraftType', 'OperatingAirline')\\\n",
    "        .agg(sum('LandingCount').alias('TotalLandingCount'))\\\n",
    "        .orderBy('TotalLandingCount', ascending=False)\\\n",
    "        .limit(5)"
   ]
  },
  {
   "cell_type": "code",
   "execution_count": 9,
   "metadata": {},
   "outputs": [
    {
     "data": {
      "text/html": [
       "<table border='1'>\n",
       "<tr><th>LandingAircraftType</th><th>PublishedAirline</th><th>TotalLandingCount</th></tr>\n",
       "<tr><td>Passenger</td><td>United Airlines -...</td><td>718455</td></tr>\n",
       "<tr><td>Passenger</td><td>United Airlines</td><td>691552</td></tr>\n",
       "<tr><td>Passenger</td><td>American Airlines</td><td>193348</td></tr>\n",
       "<tr><td>Passenger</td><td>Delta Air Lines</td><td>181165</td></tr>\n",
       "<tr><td>Passenger</td><td>Southwest Airlines</td><td>178115</td></tr>\n",
       "</table>\n"
      ],
      "text/plain": [
       "+-------------------+--------------------+-----------------+\n",
       "|LandingAircraftType|    PublishedAirline|TotalLandingCount|\n",
       "+-------------------+--------------------+-----------------+\n",
       "|          Passenger|United Airlines -...|           718455|\n",
       "|          Passenger|     United Airlines|           691552|\n",
       "|          Passenger|   American Airlines|           193348|\n",
       "|          Passenger|     Delta Air Lines|           181165|\n",
       "|          Passenger|  Southwest Airlines|           178115|\n",
       "+-------------------+--------------------+-----------------+"
      ]
     },
     "execution_count": 9,
     "metadata": {},
     "output_type": "execute_result"
    }
   ],
   "source": [
    "input_data.select('LandingAircraftType', 'PublishedAirline', 'LandingCount')\\\n",
    "        .groupBy('LandingAircraftType', 'PublishedAirline')\\\n",
    "        .agg(sum('LandingCount').alias('TotalLandingCount'))\\\n",
    "        .orderBy('TotalLandingCount', ascending=False)\\\n",
    "        .limit(5)"
   ]
  },
  {
   "cell_type": "code",
   "execution_count": 10,
   "metadata": {},
   "outputs": [
    {
     "data": {
      "text/html": [
       "<table border='1'>\n",
       "<tr><th>GEOSummary</th><th>GEORegion</th><th>TotalLandingCount</th></tr>\n",
       "<tr><td>Domestic</td><td>US</td><td>2310550</td></tr>\n",
       "<tr><td>International</td><td>Asia</td><td>140687</td></tr>\n",
       "<tr><td>International</td><td>Canada</td><td>105789</td></tr>\n",
       "<tr><td>International</td><td>Europe</td><td>71598</td></tr>\n",
       "<tr><td>International</td><td>Mexico</td><td>51710</td></tr>\n",
       "</table>\n"
      ],
      "text/plain": [
       "+-------------+---------+-----------------+\n",
       "|   GEOSummary|GEORegion|TotalLandingCount|\n",
       "+-------------+---------+-----------------+\n",
       "|     Domestic|       US|          2310550|\n",
       "|International|     Asia|           140687|\n",
       "|International|   Canada|           105789|\n",
       "|International|   Europe|            71598|\n",
       "|International|   Mexico|            51710|\n",
       "+-------------+---------+-----------------+"
      ]
     },
     "execution_count": 10,
     "metadata": {},
     "output_type": "execute_result"
    }
   ],
   "source": [
    "input_data.select('GEOSummary', 'GEORegion', 'LandingCount')\\\n",
    "        .groupBy('GEOSummary', 'GEORegion')\\\n",
    "        .agg(sum('LandingCount').alias('TotalLandingCount'))\\\n",
    "        .orderBy('TotalLandingCount', ascending=False)\\\n",
    "        .limit(5)"
   ]
  },
  {
   "cell_type": "code",
   "execution_count": 11,
   "metadata": {},
   "outputs": [
    {
     "data": {
      "text/html": [
       "<table border='1'>\n",
       "<tr><th>AircraftManufacturer</th><th>AircraftModel</th><th>TotalLandingCount</th></tr>\n",
       "<tr><td>Airbus</td><td>A320</td><td>420911</td></tr>\n",
       "<tr><td>Boeing</td><td>737</td><td>406502</td></tr>\n",
       "<tr><td>Boeing</td><td>757</td><td>213229</td></tr>\n",
       "<tr><td>Airbus</td><td>A319</td><td>188405</td></tr>\n",
       "<tr><td>Bombardier</td><td>CL600</td><td>138678</td></tr>\n",
       "</table>\n"
      ],
      "text/plain": [
       "+--------------------+-------------+-----------------+\n",
       "|AircraftManufacturer|AircraftModel|TotalLandingCount|\n",
       "+--------------------+-------------+-----------------+\n",
       "|              Airbus|         A320|           420911|\n",
       "|              Boeing|          737|           406502|\n",
       "|              Boeing|          757|           213229|\n",
       "|              Airbus|         A319|           188405|\n",
       "|          Bombardier|        CL600|           138678|\n",
       "+--------------------+-------------+-----------------+"
      ]
     },
     "execution_count": 11,
     "metadata": {},
     "output_type": "execute_result"
    }
   ],
   "source": [
    "input_data.select('AircraftManufacturer', 'AircraftModel', 'LandingCount')\\\n",
    "        .groupBy('AircraftManufacturer', 'AircraftModel')\\\n",
    "        .agg(sum('LandingCount').alias('TotalLandingCount'))\\\n",
    "        .orderBy('TotalLandingCount', ascending=False)\\\n",
    "        .limit(5)"
   ]
  },
  {
   "cell_type": "code",
   "execution_count": 41,
   "metadata": {},
   "outputs": [
    {
     "data": {
      "text/html": [
       "<table border='1'>\n",
       "<tr><th>ActivityPeriod</th><th>Rank</th><th>OperatingAirline</th><th>TotalLandingCount</th></tr>\n",
       "<tr><td>2019</td><td>1</td><td>United Airlines</td><td>52378</td></tr>\n",
       "<tr><td>2019</td><td>2</td><td>SkyWest Airlines</td><td>28846</td></tr>\n",
       "<tr><td>2019</td><td>3</td><td>Alaska Airlines</td><td>17597</td></tr>\n",
       "<tr><td>2019</td><td>4</td><td>Delta Air Lines</td><td>11425</td></tr>\n",
       "<tr><td>2019</td><td>5</td><td>Southwest Airlines</td><td>10423</td></tr>\n",
       "<tr><td>2018</td><td>1</td><td>United Airlines</td><td>70839</td></tr>\n",
       "<tr><td>2018</td><td>2</td><td>SkyWest Airlines</td><td>36449</td></tr>\n",
       "<tr><td>2018</td><td>3</td><td>Alaska Airlines</td><td>27094</td></tr>\n",
       "<tr><td>2018</td><td>4</td><td>Southwest Airlines</td><td>16270</td></tr>\n",
       "<tr><td>2018</td><td>5</td><td>Delta Air Lines</td><td>14145</td></tr>\n",
       "<tr><td>2017</td><td>1</td><td>United Airlines</td><td>68365</td></tr>\n",
       "<tr><td>2017</td><td>2</td><td>SkyWest Airlines</td><td>37011</td></tr>\n",
       "<tr><td>2017</td><td>3</td><td>Virgin America</td><td>22055</td></tr>\n",
       "<tr><td>2017</td><td>4</td><td>Southwest Airlines</td><td>16532</td></tr>\n",
       "<tr><td>2017</td><td>5</td><td>American Airlines</td><td>13270</td></tr>\n",
       "<tr><td>2016</td><td>1</td><td>United Airlines</td><td>62390</td></tr>\n",
       "<tr><td>2016</td><td>2</td><td>SkyWest Airlines</td><td>38048</td></tr>\n",
       "<tr><td>2016</td><td>3</td><td>Virgin America</td><td>20762</td></tr>\n",
       "<tr><td>2016</td><td>4</td><td>American Airlines</td><td>16110</td></tr>\n",
       "<tr><td>2016</td><td>5</td><td>Southwest Airlines</td><td>15785</td></tr>\n",
       "</table>\n"
      ],
      "text/plain": [
       "+--------------+----+------------------+-----------------+\n",
       "|ActivityPeriod|Rank|  OperatingAirline|TotalLandingCount|\n",
       "+--------------+----+------------------+-----------------+\n",
       "|          2019|   1|   United Airlines|            52378|\n",
       "|          2019|   2|  SkyWest Airlines|            28846|\n",
       "|          2019|   3|   Alaska Airlines|            17597|\n",
       "|          2019|   4|   Delta Air Lines|            11425|\n",
       "|          2019|   5|Southwest Airlines|            10423|\n",
       "|          2018|   1|   United Airlines|            70839|\n",
       "|          2018|   2|  SkyWest Airlines|            36449|\n",
       "|          2018|   3|   Alaska Airlines|            27094|\n",
       "|          2018|   4|Southwest Airlines|            16270|\n",
       "|          2018|   5|   Delta Air Lines|            14145|\n",
       "|          2017|   1|   United Airlines|            68365|\n",
       "|          2017|   2|  SkyWest Airlines|            37011|\n",
       "|          2017|   3|    Virgin America|            22055|\n",
       "|          2017|   4|Southwest Airlines|            16532|\n",
       "|          2017|   5| American Airlines|            13270|\n",
       "|          2016|   1|   United Airlines|            62390|\n",
       "|          2016|   2|  SkyWest Airlines|            38048|\n",
       "|          2016|   3|    Virgin America|            20762|\n",
       "|          2016|   4| American Airlines|            16110|\n",
       "|          2016|   5|Southwest Airlines|            15785|\n",
       "+--------------+----+------------------+-----------------+"
      ]
     },
     "execution_count": 41,
     "metadata": {},
     "output_type": "execute_result"
    }
   ],
   "source": [
    "from pyspark.sql import Window\n",
    "from pyspark.sql.functions import to_date, year, dense_rank, desc\n",
    "\n",
    "input_data.select('ActivityPeriod', 'OperatingAirline', 'LandingCount')\\\n",
    "        .withColumn('ActivityPeriod', input_data.ActivityPeriod.cast(StringType()))\\\n",
    "        .withColumn('ActivityPeriod', to_date('ActivityPeriod', format='yyyyMM'))\\\n",
    "        .withColumn('ActivityPeriod', year('ActivityPeriod'))\\\n",
    "        .filter('ActivityPeriod > 2015')\\\n",
    "        .groupBy('ActivityPeriod', 'OperatingAirline')\\\n",
    "        .agg(sum('LandingCount').alias('TotalLandingCount'))\\\n",
    "        .withColumn('Rank', dense_rank().over(Window.partitionBy('ActivityPeriod').orderBy(desc('TotalLandingCount'))))\\\n",
    "        .filter('Rank <= 5')\\\n",
    "        .select('ActivityPeriod', 'Rank', 'OperatingAirline', 'TotalLandingCount')\\\n",
    "        .orderBy(['ActivityPeriod', 'Rank'], ascending=[0, 1])"
   ]
  },
  {
   "cell_type": "code",
   "execution_count": 40,
   "metadata": {},
   "outputs": [
    {
     "data": {
      "text/html": [
       "<table border='1'>\n",
       "<tr><th>ActivityPeriod</th><th>Rank</th><th>PublishedAirline</th><th>TotalLandingCount</th></tr>\n",
       "<tr><td>2019</td><td>1</td><td>United Airlines</td><td>78149</td></tr>\n",
       "<tr><td>2019</td><td>2</td><td>Alaska Airlines</td><td>22203</td></tr>\n",
       "<tr><td>2019</td><td>3</td><td>Delta Air Lines</td><td>12158</td></tr>\n",
       "<tr><td>2019</td><td>4</td><td>American Airlines</td><td>11533</td></tr>\n",
       "<tr><td>2019</td><td>5</td><td>Southwest Airlines</td><td>10423</td></tr>\n",
       "<tr><td>2018</td><td>1</td><td>United Airlines</td><td>104158</td></tr>\n",
       "<tr><td>2018</td><td>2</td><td>Alaska Airlines</td><td>30017</td></tr>\n",
       "<tr><td>2018</td><td>3</td><td>American Airlines</td><td>17082</td></tr>\n",
       "<tr><td>2018</td><td>4</td><td>Delta Air Lines</td><td>16273</td></tr>\n",
       "<tr><td>2018</td><td>5</td><td>Southwest Airlines</td><td>16270</td></tr>\n",
       "<tr><td>2017</td><td>1</td><td>United Airlines</td><td>100209</td></tr>\n",
       "<tr><td>2017</td><td>2</td><td>Virgin America</td><td>22055</td></tr>\n",
       "<tr><td>2017</td><td>3</td><td>American Airlines</td><td>17337</td></tr>\n",
       "<tr><td>2017</td><td>4</td><td>Delta Air Lines</td><td>16996</td></tr>\n",
       "<tr><td>2017</td><td>5</td><td>Southwest Airlines</td><td>16532</td></tr>\n",
       "<tr><td>2016</td><td>1</td><td>United Airlines</td><td>99139</td></tr>\n",
       "<tr><td>2016</td><td>2</td><td>Virgin America</td><td>20762</td></tr>\n",
       "<tr><td>2016</td><td>3</td><td>American Airlines</td><td>18394</td></tr>\n",
       "<tr><td>2016</td><td>4</td><td>Delta Air Lines</td><td>16925</td></tr>\n",
       "<tr><td>2016</td><td>5</td><td>Southwest Airlines</td><td>15785</td></tr>\n",
       "</table>\n"
      ],
      "text/plain": [
       "+--------------+----+------------------+-----------------+\n",
       "|ActivityPeriod|Rank|  PublishedAirline|TotalLandingCount|\n",
       "+--------------+----+------------------+-----------------+\n",
       "|          2019|   1|   United Airlines|            78149|\n",
       "|          2019|   2|   Alaska Airlines|            22203|\n",
       "|          2019|   3|   Delta Air Lines|            12158|\n",
       "|          2019|   4| American Airlines|            11533|\n",
       "|          2019|   5|Southwest Airlines|            10423|\n",
       "|          2018|   1|   United Airlines|           104158|\n",
       "|          2018|   2|   Alaska Airlines|            30017|\n",
       "|          2018|   3| American Airlines|            17082|\n",
       "|          2018|   4|   Delta Air Lines|            16273|\n",
       "|          2018|   5|Southwest Airlines|            16270|\n",
       "|          2017|   1|   United Airlines|           100209|\n",
       "|          2017|   2|    Virgin America|            22055|\n",
       "|          2017|   3| American Airlines|            17337|\n",
       "|          2017|   4|   Delta Air Lines|            16996|\n",
       "|          2017|   5|Southwest Airlines|            16532|\n",
       "|          2016|   1|   United Airlines|            99139|\n",
       "|          2016|   2|    Virgin America|            20762|\n",
       "|          2016|   3| American Airlines|            18394|\n",
       "|          2016|   4|   Delta Air Lines|            16925|\n",
       "|          2016|   5|Southwest Airlines|            15785|\n",
       "+--------------+----+------------------+-----------------+"
      ]
     },
     "execution_count": 40,
     "metadata": {},
     "output_type": "execute_result"
    }
   ],
   "source": [
    "input_data.select('ActivityPeriod', 'PublishedAirline', 'LandingCount')\\\n",
    "        .withColumn('ActivityPeriod', input_data.ActivityPeriod.cast(StringType()))\\\n",
    "        .withColumn('ActivityPeriod', to_date('ActivityPeriod', format='yyyyMM'))\\\n",
    "        .withColumn('ActivityPeriod', year('ActivityPeriod'))\\\n",
    "        .filter('ActivityPeriod > 2015')\\\n",
    "        .groupBy('ActivityPeriod', 'PublishedAirline')\\\n",
    "        .agg(sum('LandingCount').alias('TotalLandingCount'))\\\n",
    "        .withColumn('Rank', dense_rank().over(Window.partitionBy('ActivityPeriod').orderBy(desc('TotalLandingCount'))))\\\n",
    "        .filter('Rank <= 5')\\\n",
    "        .select('ActivityPeriod', 'Rank', 'PublishedAirline', 'TotalLandingCount')\\\n",
    "        .orderBy(['ActivityPeriod', 'Rank'], ascending=[0, 1])"
   ]
  },
  {
   "cell_type": "code",
   "execution_count": 71,
   "metadata": {},
   "outputs": [
    {
     "data": {
      "text/plain": [
       "<matplotlib.axes._subplots.AxesSubplot at 0x1940a75ce88>"
      ]
     },
     "execution_count": 71,
     "metadata": {},
     "output_type": "execute_result"
    },
    {
     "data": {
      "image/png": "[encoded data removed]",
      "text/plain": [
       "<Figure size 432x288 with 1 Axes>"
      ]
     },
     "metadata": {},
     "output_type": "display_data"
    }
   ],
   "source": [
    "import matplotlib.pyplot as plt\n",
    "\n",
    "input_data.select('ActivityPeriod', 'OperatingAirline', 'LandingCount')\\\n",
    "        .withColumn('ActivityPeriod', input_data.ActivityPeriod.cast(StringType()))\\\n",
    "        .withColumn('ActivityPeriod', to_date('ActivityPeriod', format='yyyyMM'))\\\n",
    "        .withColumn('ActivityPeriod', year('ActivityPeriod'))\\\n",
    "        .filter('ActivityPeriod > 2015')\\\n",
    "        .groupBy('ActivityPeriod', 'OperatingAirline')\\\n",
    "        .agg(sum('LandingCount').alias('TotalLandingCount'))\\\n",
    "        .withColumn('Rank', dense_rank().over(Window.partitionBy('ActivityPeriod').orderBy(desc('TotalLandingCount'))))\\\n",
    "        .filter('Rank <= 5')\\\n",
    "        .select('ActivityPeriod', 'Rank', 'OperatingAirline', 'TotalLandingCount')\\\n",
    "        .orderBy(['ActivityPeriod', 'Rank'], ascending=[0, 1])\\\n",
    "        .filter('ActivityPeriod = 2019')\\\n",
    "        .select('OperatingAirline', 'TotalLandingCount')\\\n",
    "        .toPandas()\\\n",
    "        .set_index('OperatingAirline')\\\n",
    "        .plot.pie(y='TotalLandingCount')"
   ]
  },
  {
   "cell_type": "code",
   "execution_count": 69,
   "metadata": {},
   "outputs": [
    {
     "ename": "TypeError",
     "evalue": "pie() got an unexpected keyword argument 'index'",
     "output_type": "error",
     "traceback": [
      "\u001b[1;31m---------------------------------------------------------------------------\u001b[0m",
      "\u001b[1;31mTypeError\u001b[0m                                 Traceback (most recent call last)",
      "\u001b[1;32m<ipython-input-69-c1564f2d45a4>\u001b[0m in \u001b[0;36m<module>\u001b[1;34m\u001b[0m\n\u001b[0;32m      1\u001b[0m \u001b[0mget_ipython\u001b[0m\u001b[1;33m(\u001b[0m\u001b[1;33m)\u001b[0m\u001b[1;33m.\u001b[0m\u001b[0mrun_line_magic\u001b[0m\u001b[1;33m(\u001b[0m\u001b[1;34m'matplotlib'\u001b[0m\u001b[1;33m,\u001b[0m \u001b[1;34m'inline'\u001b[0m\u001b[1;33m)\u001b[0m\u001b[1;33m\u001b[0m\u001b[1;33m\u001b[0m\u001b[0m\n\u001b[1;32m----> 2\u001b[1;33m \u001b[0mplt\u001b[0m\u001b[1;33m.\u001b[0m\u001b[0mpie\u001b[0m\u001b[1;33m(\u001b[0m\u001b[0mpanda_df\u001b[0m\u001b[1;33m[\u001b[0m\u001b[1;34m'TotalLandingCount'\u001b[0m\u001b[1;33m]\u001b[0m\u001b[1;33m,\u001b[0m \u001b[0mindex\u001b[0m\u001b[1;33m=\u001b[0m\u001b[0mpanda_df\u001b[0m\u001b[1;33m[\u001b[0m\u001b[1;34m'OperatingAirline'\u001b[0m\u001b[1;33m]\u001b[0m\u001b[1;33m,\u001b[0m \u001b[0mautopct\u001b[0m\u001b[1;33m=\u001b[0m\u001b[1;34m'%1.1f%%'\u001b[0m\u001b[1;33m,\u001b[0m \u001b[0mcounterclock\u001b[0m\u001b[1;33m=\u001b[0m\u001b[1;32mFalse\u001b[0m\u001b[1;33m,\u001b[0m \u001b[0mshadow\u001b[0m\u001b[1;33m=\u001b[0m\u001b[1;32mTrue\u001b[0m\u001b[1;33m)\u001b[0m\u001b[1;33m\u001b[0m\u001b[1;33m\u001b[0m\u001b[0m\n\u001b[0m\u001b[0;32m      3\u001b[0m \u001b[0mplt\u001b[0m\u001b[1;33m.\u001b[0m\u001b[0mlegend\u001b[0m\u001b[1;33m(\u001b[0m\u001b[0mlabels\u001b[0m\u001b[1;33m)\u001b[0m\u001b[1;33m\u001b[0m\u001b[1;33m\u001b[0m\u001b[0m\n\u001b[0;32m      4\u001b[0m \u001b[0mplt\u001b[0m\u001b[1;33m.\u001b[0m\u001b[0mshow\u001b[0m\u001b[1;33m(\u001b[0m\u001b[1;33m)\u001b[0m\u001b[1;33m\u001b[0m\u001b[1;33m\u001b[0m\u001b[0m\n",
      "\u001b[1;31mTypeError\u001b[0m: pie() got an unexpected keyword argument 'index'"
     ]
    }
   ],
   "source": [
    "%matplotlib inline\n",
    "plt.pie(panda_df['TotalLandingCount'], index=panda_df['OperatingAirline'], autopct='%1.1f%%', counterclock=False, shadow=True)\n",
    "plt.legend(labels)\n",
    "plt.show()"
   ]
  },
  {
   "cell_type": "code",
   "execution_count": 46,
   "metadata": {},
   "outputs": [
    {
     "name": "stderr",
     "output_type": "stream",
     "text": [
      "c:\\users\\sudip.a.banerjee\\pycharmprojects\\learning\\venv\\lib\\site-packages\\ipykernel_launcher.py:12: MatplotlibDeprecationWarning: Non-1D inputs to pie() are currently squeeze()d, but this behavior is deprecated since 3.1 and will be removed in 3.3; pass a 1D array instead.\n",
      "  if sys.path[0] == '':\n"
     ]
    },
    {
     "data": {
      "image/png": "[encoded data removed]",
      "text/plain": [
       "<Figure size 432x288 with 1 Axes>"
      ]
     },
     "metadata": {},
     "output_type": "display_data"
    }
   ],
   "source": [
    "from pandas import DataFrame\n",
    "import matplotlib.pyplot as plt\n",
    "\n",
    "%matplotlib inline\n",
    "\n",
    "Data = {'Tasks': [300,500,700]}\n",
    "df = DataFrame(Data,columns=['Tasks'])\n",
    "\n",
    "my_labels = 'Tasks Pending','Tasks Ongoing','Tasks Completed'\n",
    "my_colors = ['lightblue','lightsteelblue','silver']\n",
    "my_explode = (0, 0.1, 0)\n",
    "plt.pie(df, labels=my_labels, autopct='%1.1f%%', startangle=15, shadow = True, colors=my_colors, explode=my_explode)\n",
    "plt.title('My Tasks')\n",
    "plt.axis('equal')\n",
    "plt.show()"
   ]
  }
 ],
 "metadata": {
  "kernelspec": {
   "display_name": "Python 3",
   "language": "python",
   "name": "python3"
  },
  "language_info": {
   "codemirror_mode": {
    "name": "ipython",
    "version": 3
   },
   "file_extension": ".py",
   "mimetype": "text/x-python",
   "name": "python",
   "nbconvert_exporter": "python",
   "pygments_lexer": "ipython3",
   "version": "3.7.6"
  }
 },
 "nbformat": 4,
 "nbformat_minor": 4
}
