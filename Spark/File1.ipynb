{
 "cells": [
  {
   "cell_type": "code",
   "execution_count": 1,
   "metadata": {},
   "outputs": [],
   "source": [
    "import requests\n",
    "get_file = requests.get('https://data.sfgov.org/api/views/fpux-q53t/rows.csv?accessType=DOWNLOAD')\n",
    "if get_file.status_code != 200:\n",
    "    print('Error while downloading data file')"
   ]
  },
  {
   "cell_type": "code",
   "execution_count": 11,
   "metadata": {},
   "outputs": [
    {
     "data": {
      "text/plain": [
       "'c:\\\\users\\\\sudip.a.banerjee\\\\pycharmprojects\\\\learning\\\\venv\\\\lib\\\\site-packages\\\\Air_Traffic_Landings_Statistics.csv'"
      ]
     },
     "execution_count": 11,
     "metadata": {},
     "output_type": "execute_result"
    }
   ],
   "source": [
    "import os\n",
    "import sys\n",
    "os.path.join(os.path.dirname(sys.argv[0]), get_file.headers['content-disposition'].split(';')[-1].strip().split('=')[-1])"
   ]
  },
  {
   "cell_type": "code",
   "execution_count": 12,
   "metadata": {},
   "outputs": [],
   "source": [
    "op_file = open(os.path.join(os.path.dirname(sys.argv[0]), get_file.headers['content-disposition'].split(';')[-1].strip().split('=')[-1]), 'wb')\n",
    "op_file.write(get_file.content)\n",
    "op_file.close()"
   ]
  },
  {
   "cell_type": "code",
   "execution_count": 13,
   "metadata": {},
   "outputs": [
    {
     "name": "stdout",
     "output_type": "stream",
     "text": [
      "[1, 4, 9, 16]\n"
     ]
    }
   ],
   "source": []
  }
 ],
 "metadata": {
  "kernelspec": {
   "display_name": "Python 3",
   "language": "python",
   "name": "python3"
  },
  "language_info": {
   "codemirror_mode": {
    "name": "ipython",
    "version": 3
   },
   "file_extension": ".py",
   "mimetype": "text/x-python",
   "name": "python",
   "nbconvert_exporter": "python",
   "pygments_lexer": "ipython3",
   "version": "3.7.6"
  }
 },
 "nbformat": 4,
 "nbformat_minor": 4
}
