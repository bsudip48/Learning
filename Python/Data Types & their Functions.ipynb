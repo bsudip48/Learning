{
 "cells": [
  {
   "cell_type": "markdown",
   "metadata": {},
   "source": [
    "# Python Data Types & their Key Functions"
   ]
  },
  {
   "cell_type": "markdown",
   "metadata": {},
   "source": [
    " \n",
    " "
   ]
  },
  {
   "cell_type": "markdown",
   "metadata": {},
   "source": [
    "### Mutable and Immutable Data Types in Python\n",
    "* Some of the mutable data types in Python are list, dictionary, set and user-defined classes.\n",
    "* On the other hand, some of the immutable data types are int, float, decimal, bool, string, tuple, and range."
   ]
  },
  {
   "cell_type": "markdown",
   "metadata": {},
   "source": [
    " "
   ]
  },
  {
   "cell_type": "markdown",
   "metadata": {},
   "source": [
    "### Boolean"
   ]
  },
  {
   "cell_type": "code",
   "execution_count": 1,
   "metadata": {},
   "outputs": [
    {
     "data": {
      "text/plain": [
       "bool"
      ]
     },
     "execution_count": 1,
     "metadata": {},
     "output_type": "execute_result"
    }
   ],
   "source": [
    "# Immutable Data Type\n",
    "type(True)"
   ]
  },
  {
   "cell_type": "markdown",
   "metadata": {},
   "source": [
    " "
   ]
  },
  {
   "cell_type": "markdown",
   "metadata": {},
   "source": [
    "### String"
   ]
  },
  {
   "cell_type": "code",
   "execution_count": 2,
   "metadata": {},
   "outputs": [
    {
     "data": {
      "text/plain": [
       "str"
      ]
     },
     "execution_count": 2,
     "metadata": {},
     "output_type": "execute_result"
    }
   ],
   "source": [
    "# Immutable Data Type\n",
    "type('SUDIP BANERJEE')"
   ]
  },
  {
   "cell_type": "markdown",
   "metadata": {},
   "source": [
    " "
   ]
  },
  {
   "cell_type": "markdown",
   "metadata": {},
   "source": [
    "### Int, Float & Complex"
   ]
  },
  {
   "cell_type": "code",
   "execution_count": 3,
   "metadata": {},
   "outputs": [
    {
     "name": "stdout",
     "output_type": "stream",
     "text": [
      "<class 'int'>\n",
      "<class 'float'>\n",
      "<class 'complex'>\n"
     ]
    }
   ],
   "source": [
    "# Immutable Data Types\n",
    "print(type(1))\n",
    "print(type(1.2))\n",
    "print(type(1 + 2j))"
   ]
  },
  {
   "cell_type": "markdown",
   "metadata": {},
   "source": [
    " "
   ]
  },
  {
   "cell_type": "markdown",
   "metadata": {},
   "source": [
    "### List, Tuple, Range"
   ]
  },
  {
   "cell_type": "code",
   "execution_count": 4,
   "metadata": {},
   "outputs": [
    {
     "name": "stdout",
     "output_type": "stream",
     "text": [
      "<class 'list'>\n",
      "<class 'tuple'>\n",
      "<class 'range'>\n"
     ]
    }
   ],
   "source": [
    "# Mutable Data Type\n",
    "print(type([1, 2, 3]))\n",
    "# Immutable Data Type\n",
    "print(type((1, 2, 3)))\n",
    "print(type(range(2, 18, 3)))"
   ]
  },
  {
   "cell_type": "markdown",
   "metadata": {},
   "source": [
    " "
   ]
  },
  {
   "cell_type": "markdown",
   "metadata": {},
   "source": [
    "List is a collection which is ordered and changeable. Allows duplicate members."
   ]
  },
  {
   "cell_type": "code",
   "execution_count": 5,
   "metadata": {},
   "outputs": [
    {
     "name": "stdout",
     "output_type": "stream",
     "text": [
      "Original list: ['apple', 'banana', 'cherry']\n",
      "After append: ['apple', 'banana', 'cherry', 'orange']\n",
      "After inserting at index 1: ['apple', 'orange', 'banana', 'cherry']\n",
      "After removing the element 'banana': ['apple', 'cherry']\n",
      "What's being popped out? cherry\n",
      "List after popping out the element: ['apple', 'banana']\n",
      "After deleting element at index 0: ['banana', 'cherry']\n",
      "After clear: []\n",
      "Copied list: ['apple', 'banana', 'cherry']\n",
      "Reverse sorted list: ['cherry', 'banana', 'apple']\n",
      "Normal sorted list: ['apple', 'banana', 'cherry']\n"
     ]
    }
   ],
   "source": [
    "# List functions\n",
    "\n",
    "print('Original list:', [\"apple\", \"banana\", \"cherry\"])\n",
    "\n",
    "# Append\n",
    "thislist = [\"apple\", \"banana\", \"cherry\"]\n",
    "thislist.append(\"orange\")\n",
    "print('After append:', thislist)\n",
    "\n",
    "# Insert\n",
    "thislist = [\"apple\", \"banana\", \"cherry\"]\n",
    "thislist.insert(1, \"orange\")\n",
    "print('After inserting at index 1:', thislist)\n",
    "\n",
    "# Remove\n",
    "thislist = [\"apple\", \"banana\", \"cherry\"]\n",
    "thislist.remove(\"banana\")\n",
    "print('After removing the element \\'banana\\':', thislist)\n",
    "\n",
    "# Pop\n",
    "thislist = [\"apple\", \"banana\", \"cherry\"]\n",
    "print('What\\'s being popped out?', thislist.pop())\n",
    "print('List after popping out the element:', thislist)\n",
    "\n",
    "# Del\n",
    "thislist = [\"apple\", \"banana\", \"cherry\"]\n",
    "del thislist[0]\n",
    "print('After deleting element at index 0:', thislist)\n",
    "\n",
    "# Clear\n",
    "thislist = [\"apple\", \"banana\", \"cherry\"]\n",
    "thislist.clear()\n",
    "print('After clear:', thislist)\n",
    "\n",
    "# Copy\n",
    "thislist = [\"apple\", \"banana\", \"cherry\"]\n",
    "mylist = thislist.copy()\n",
    "print('Copied list:', mylist)\n",
    "\n",
    "# Sort\n",
    "thislist = [\"apple\", \"banana\", \"cherry\"]\n",
    "thislist.sort(key=lambda x: x, reverse=True)\n",
    "print('Reverse sorted list:', thislist)\n",
    "\n",
    "# Sorted\n",
    "newlist = sorted(thislist, key=lambda x: x, reverse=False)\n",
    "print('Normal sorted list:', newlist)"
   ]
  },
  {
   "cell_type": "code",
   "execution_count": 6,
   "metadata": {},
   "outputs": [
    {
     "name": "stdout",
     "output_type": "stream",
     "text": [
      "['a', 'b', 'c', 1, 2, 3]\n",
      "['a', 'b', 'c', 1, 2, 3]\n"
     ]
    }
   ],
   "source": [
    "# Joining Lists\n",
    "\n",
    "# `+` operator\n",
    "list1 = [\"a\", \"b\", \"c\"]\n",
    "list2 = [1, 2, 3]\n",
    "list3 = list1 + list2\n",
    "print(list3)\n",
    "\n",
    "# Extend\n",
    "list1 = [\"a\", \"b\" , \"c\"]\n",
    "list2 = [1, 2, 3]\n",
    "list1.extend(list2)\n",
    "print(list1)"
   ]
  },
  {
   "cell_type": "markdown",
   "metadata": {},
   "source": [
    " "
   ]
  },
  {
   "cell_type": "markdown",
   "metadata": {},
   "source": [
    "Tuple is a collection which is ordered and unchangeable. Allows duplicate members."
   ]
  },
  {
   "cell_type": "code",
   "execution_count": 7,
   "metadata": {},
   "outputs": [
    {
     "name": "stdout",
     "output_type": "stream",
     "text": [
      "('a', 'b', 'c', 1, 2, 3)\n"
     ]
    }
   ],
   "source": [
    "# Joining Tuples\n",
    "tuple1 = (\"a\", \"b\" , \"c\")\n",
    "tuple2 = (1, 2, 3)\n",
    "tuple3 = tuple1 + tuple2\n",
    "print(tuple3)"
   ]
  },
  {
   "cell_type": "markdown",
   "metadata": {},
   "source": [
    " "
   ]
  },
  {
   "cell_type": "markdown",
   "metadata": {},
   "source": [
    "For Range:\n",
    "* First argument is the starting point (inclusive).\n",
    "* [MANDATORY] Second argument is the ending point (exclusive).\n",
    "* Third argument is the incrementing steps."
   ]
  },
  {
   "cell_type": "code",
   "execution_count": 8,
   "metadata": {},
   "outputs": [
    {
     "data": {
      "text/plain": [
       "[2, 5, 8, 11, 14, 17]"
      ]
     },
     "execution_count": 8,
     "metadata": {},
     "output_type": "execute_result"
    }
   ],
   "source": [
    "list(range(2, 18, 3))"
   ]
  },
  {
   "cell_type": "markdown",
   "metadata": {},
   "source": [
    " "
   ]
  },
  {
   "cell_type": "markdown",
   "metadata": {},
   "source": [
    "### Dict\n",
    "A dictionary is a collection which is unordered, changeable and indexed."
   ]
  },
  {
   "cell_type": "code",
   "execution_count": 9,
   "metadata": {},
   "outputs": [
    {
     "name": "stdout",
     "output_type": "stream",
     "text": [
      "Original Dict: {'brand': 'Ford', 'model': 'Mustang', 'year': 1964}\n",
      "Iterating on items\n",
      "brand Ford\n",
      "model Mustang\n",
      "year 1964\n",
      "Value of key being popped: Mustang\n",
      "After popping the key 'model' {'brand': 'Ford', 'year': 1964}\n",
      "After deleting the key 'model' {'brand': 'Ford', 'year': 1964}\n",
      "After clearing {}\n",
      "Copied Dict: {'brand': 'Ford', 'model': 'Mustang', 'year': 1964}\n"
     ]
    }
   ],
   "source": [
    "# Dict Functions\n",
    "# Mutable Data Type\n",
    "thisdict = {\n",
    "  \"brand\": \"Ford\",\n",
    "  \"model\": \"Mustang\",\n",
    "  \"year\": 1964\n",
    "}\n",
    "\n",
    "print('Original Dict:', thisdict)\n",
    "\n",
    "# .items()\n",
    "print('Iterating on items')\n",
    "for x, y in thisdict.items():\n",
    "  print(x, y)\n",
    "\n",
    "# .pop()\n",
    "print('Value of key being popped:', thisdict.pop(\"model\"))\n",
    "print('After popping the key \\'model\\'', thisdict)\n",
    "\n",
    "# del\n",
    "thisdict = {\n",
    "  \"brand\": \"Ford\",\n",
    "  \"model\": \"Mustang\",\n",
    "  \"year\": 1964\n",
    "}\n",
    "del thisdict[\"model\"]\n",
    "print('After deleting the key \\'model\\'', thisdict)\n",
    "\n",
    "# clear\n",
    "thisdict = {\n",
    "  \"brand\": \"Ford\",\n",
    "  \"model\": \"Mustang\",\n",
    "  \"year\": 1964\n",
    "}\n",
    "thisdict.clear()\n",
    "print('After clearing', thisdict)\n",
    "\n",
    "# copy\n",
    "thisdict = {\n",
    "  \"brand\": \"Ford\",\n",
    "  \"model\": \"Mustang\",\n",
    "  \"year\": 1964\n",
    "}\n",
    "mydict = thisdict.copy()\n",
    "print('Copied Dict:', mydict)"
   ]
  },
  {
   "cell_type": "markdown",
   "metadata": {},
   "source": [
    " "
   ]
  },
  {
   "cell_type": "markdown",
   "metadata": {},
   "source": [
    "### Set\n",
    "A set is a collection which is unordered and unindexed."
   ]
  },
  {
   "cell_type": "code",
   "execution_count": 10,
   "metadata": {},
   "outputs": [
    {
     "name": "stdout",
     "output_type": "stream",
     "text": [
      "Original Set\n",
      "cherry\n",
      "apple\n",
      "banana\n",
      "After adding 'Orange': {'cherry', 'orange', 'apple', 'banana'}\n",
      "After removing 'Banana': {'cherry', 'apple'}\n",
      "After discarding 'Banana': {'cherry', 'apple'}\n",
      "Element being popped out: cherry\n",
      "After popping out: {'apple', 'banana'}\n",
      "After clearing out: set()\n"
     ]
    }
   ],
   "source": [
    "# Mutable Data Type\n",
    "thisset = {\"apple\", \"banana\", \"cherry\"}\n",
    "\n",
    "# Only way to access\n",
    "print('Original Set')\n",
    "for x in thisset:\n",
    "  print(x)\n",
    "\n",
    "# Add\n",
    "thisset.add(\"orange\")\n",
    "print('After adding \\'Orange\\':', thisset)\n",
    "\n",
    "# Remove\n",
    "thisset = {\"apple\", \"banana\", \"cherry\"}\n",
    "thisset.remove(\"banana\")\n",
    "print('After removing \\'Banana\\':', thisset)\n",
    "\n",
    "# Discard\n",
    "thisset = {\"apple\", \"banana\", \"cherry\"}\n",
    "thisset.discard(\"banana\")\n",
    "print('After discarding \\'Banana\\':', thisset)\n",
    "\n",
    "# Pop\n",
    "thisset = {\"apple\", \"banana\", \"cherry\"}\n",
    "print('Element being popped out:', thisset.pop())\n",
    "print('After popping out:', thisset)\n",
    "\n",
    "# Clear\n",
    "thisset = {\"apple\", \"banana\", \"cherry\"}\n",
    "thisset.clear()\n",
    "print('After clearing out:', thisset)"
   ]
  },
  {
   "cell_type": "code",
   "execution_count": 11,
   "metadata": {},
   "outputs": [
    {
     "name": "stdout",
     "output_type": "stream",
     "text": [
      "After updating with another set: {'orange', 'apple', 'mango', 'banana', 'grapes', 'cherry'}\n",
      "After union with another set: {'orange', 'apple', 'mango', 'banana', 'grapes', 'cherry'}\n"
     ]
    }
   ],
   "source": [
    "# Joining Sets\n",
    "\n",
    "# Update\n",
    "thisset = {\"apple\", \"banana\", \"cherry\"}\n",
    "thisset.update([\"orange\", \"mango\", \"grapes\"])\n",
    "print('After updating with another set:', thisset)\n",
    "\n",
    "# Union\n",
    "thisset = {\"apple\", \"banana\", \"cherry\"}\n",
    "newset = thisset.union([\"orange\", \"mango\", \"grapes\"])\n",
    "print('After union with another set:', newset)"
   ]
  }
 ],
 "metadata": {
  "kernelspec": {
   "display_name": "Python 3",
   "language": "python",
   "name": "python3"
  },
  "language_info": {
   "codemirror_mode": {
    "name": "ipython",
    "version": 3
   },
   "file_extension": ".py",
   "mimetype": "text/x-python",
   "name": "python",
   "nbconvert_exporter": "python",
   "pygments_lexer": "ipython3",
   "version": "3.8.3"
  }
 },
 "nbformat": 4,
 "nbformat_minor": 4
}
