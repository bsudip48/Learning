{
 "cells": [
  {
   "cell_type": "markdown",
   "metadata": {},
   "source": [
    "# Solving HackerRank Numpy Practice Questions"
   ]
  },
  {
   "cell_type": "markdown",
   "metadata": {},
   "source": [
    " "
   ]
  },
  {
   "cell_type": "markdown",
   "metadata": {},
   "source": [
    " "
   ]
  },
  {
   "cell_type": "markdown",
   "metadata": {},
   "source": [
    "Let's import the package."
   ]
  },
  {
   "cell_type": "code",
   "execution_count": null,
   "metadata": {},
   "outputs": [],
   "source": [
    "import numpy as np"
   ]
  },
  {
   "cell_type": "markdown",
   "metadata": {},
   "source": [
    " "
   ]
  },
  {
   "cell_type": "markdown",
   "metadata": {},
   "source": [
    "### Problem 1: Arrays"
   ]
  },
  {
   "cell_type": "markdown",
   "metadata": {},
   "source": [
    "Print a reversed NumPy Array. For the detailed problem statement, [visit here](https://www.hackerrank.com/challenges/np-arrays/)."
   ]
  },
  {
   "cell_type": "code",
   "execution_count": null,
   "metadata": {},
   "outputs": [],
   "source": [
    "print(np.array(input().strip().split(), dtype='float')[::-1])"
   ]
  },
  {
   "cell_type": "markdown",
   "metadata": {},
   "source": [
    " "
   ]
  },
  {
   "cell_type": "markdown",
   "metadata": {},
   "source": [
    "### Problem 2: Shape and Reshape"
   ]
  },
  {
   "cell_type": "markdown",
   "metadata": {},
   "source": [
    "Convert the list into 3x3 Numpy Array. For the detailed problem statement, [visit here](https://www.hackerrank.com/challenges/np-shape-reshape/problem)."
   ]
  },
  {
   "cell_type": "code",
   "execution_count": null,
   "metadata": {},
   "outputs": [],
   "source": [
    "print(np.reshape(np.array('1 2 3 4 5 6 7 8 9'.strip().split(), dtype='int'), (3, 3)))"
   ]
  },
  {
   "cell_type": "markdown",
   "metadata": {},
   "source": [
    " "
   ]
  },
  {
   "cell_type": "markdown",
   "metadata": {},
   "source": [
    "### Problem 3: Transpose and Flatten"
   ]
  },
  {
   "cell_type": "markdown",
   "metadata": {},
   "source": [
    "Print Transpose and Flatten Results. For the detailed problem statement, [visit here](https://www.hackerrank.com/challenges/np-transpose-and-flatten/problem)."
   ]
  },
  {
   "cell_type": "code",
   "execution_count": null,
   "metadata": {},
   "outputs": [],
   "source": [
    "N, _ = [int(tmp) for tmp in input().strip().split()]\n",
    "ip_array = np.array([input().strip().split() for _ in range(N)], dtype='int')\n",
    "print(np.transpose(ip_array))\n",
    "print(ip_array.flatten())"
   ]
  },
  {
   "cell_type": "markdown",
   "metadata": {},
   "source": [
    " "
   ]
  },
  {
   "cell_type": "markdown",
   "metadata": {},
   "source": [
    "### Problem 4: Concatenate"
   ]
  },
  {
   "cell_type": "markdown",
   "metadata": {},
   "source": [
    "Concatenate the arrays along axis 0. For the detailed problem statement, [visit here](https://www.hackerrank.com/challenges/np-concatenate/problem)."
   ]
  },
  {
   "cell_type": "code",
   "execution_count": null,
   "metadata": {},
   "outputs": [],
   "source": [
    "N, M, _ = [int(tmp) for tmp in input().strip().split()]\n",
    "ip_array_1 = np.array([input().strip().split() for _ in range(N)], dtype='int')\n",
    "ip_array_2 = np.array([input().strip().split() for _ in range(M)], dtype='int')\n",
    "print(np.concatenate((ip_array_1, ip_array_2), axis=0))"
   ]
  },
  {
   "cell_type": "markdown",
   "metadata": {},
   "source": [
    " "
   ]
  },
  {
   "cell_type": "markdown",
   "metadata": {},
   "source": [
    "### Problem 5: Zeros and Ones"
   ]
  },
  {
   "cell_type": "markdown",
   "metadata": {},
   "source": [
    "Print an array of the given shape. For the detailed problem statement, [visit here](https://www.hackerrank.com/challenges/np-zeros-and-ones/problem)."
   ]
  },
  {
   "cell_type": "code",
   "execution_count": null,
   "metadata": {},
   "outputs": [],
   "source": [
    "size = tuple([int(tmp) for tmp in input().strip().split()])\n",
    "print(np.zeros(size, dtype='int'))\n",
    "print(np.ones(size, dtype='int'))"
   ]
  },
  {
   "cell_type": "markdown",
   "metadata": {},
   "source": [
    " "
   ]
  },
  {
   "cell_type": "markdown",
   "metadata": {},
   "source": [
    "### Problem 6: Eye and Identity"
   ]
  },
  {
   "cell_type": "markdown",
   "metadata": {},
   "source": [
    "Print an array of size NxM with its main diagonal elements as 1's and 0's everywhere else. For the detailed problem statement, [visit here](https://www.hackerrank.com/challenges/np-eye-and-identity/problem)."
   ]
  },
  {
   "cell_type": "code",
   "execution_count": null,
   "metadata": {},
   "outputs": [],
   "source": [
    "size = [int(tmp) for tmp in input().strip().split()]\n",
    "print(np.eye(size[0], size[1], k=0))"
   ]
  },
  {
   "cell_type": "markdown",
   "metadata": {},
   "source": [
    " "
   ]
  },
  {
   "cell_type": "markdown",
   "metadata": {},
   "source": [
    "### Problem 7: Array Mathematics"
   ]
  },
  {
   "cell_type": "markdown",
   "metadata": {},
   "source": [
    "Perform mathematical operations. For the detailed problem statement, [visit here](https://www.hackerrank.com/challenges/np-array-mathematics/problem)."
   ]
  },
  {
   "cell_type": "code",
   "execution_count": null,
   "metadata": {},
   "outputs": [],
   "source": [
    "N, _ = [int(tmp) for tmp in input().strip().split()]\n",
    "ip_array_1 = np.array([input().strip().split() for _ in range(N)], dtype='int')\n",
    "ip_array_2 = np.array([input().strip().split() for _ in range(N)], dtype='int')\n",
    "print(np.add(ip_array_1, ip_array_2))\n",
    "print(np.subtract(ip_array_1, ip_array_2))\n",
    "print(np.multiply(ip_array_1, ip_array_2))\n",
    "print(np.divide(ip_array_1, ip_array_2).astype('int'))\n",
    "print(np.mod(ip_array_1, ip_array_2))\n",
    "print(np.power(ip_array_1, ip_array_2))"
   ]
  },
  {
   "cell_type": "markdown",
   "metadata": {},
   "source": [
    " "
   ]
  },
  {
   "cell_type": "markdown",
   "metadata": {},
   "source": [
    "### Problem 8: Floor, Ceil and Rint"
   ]
  },
  {
   "cell_type": "markdown",
   "metadata": {},
   "source": [
    "Print floor, ceil and rint of elements of 1D array. For the detailed problem statement, [visit here](https://www.hackerrank.com/challenges/floor-ceil-and-rint/problem)."
   ]
  },
  {
   "cell_type": "code",
   "execution_count": null,
   "metadata": {},
   "outputs": [],
   "source": [
    "input_array = np.array(input().strip().split(), dtype=np.float)\n",
    "print(np.floor(input_array))\n",
    "print(np.ceil(input_array))\n",
    "print(np.rint(input_array))"
   ]
  },
  {
   "cell_type": "markdown",
   "metadata": {},
   "source": [
    " "
   ]
  },
  {
   "cell_type": "markdown",
   "metadata": {},
   "source": [
    "### Problem 9: Sum and Prod"
   ]
  },
  {
   "cell_type": "markdown",
   "metadata": {},
   "source": [
    "Perform the sum over axis 0 and then find the product of the result. For the detailed problem statement, [visit here](https://www.hackerrank.com/challenges/np-sum-and-prod/problem)."
   ]
  },
  {
   "cell_type": "code",
   "execution_count": null,
   "metadata": {},
   "outputs": [],
   "source": [
    "N, _ = [int(tmp) for tmp in input().strip().split()]\n",
    "print(np.prod(np.sum(np.array([input().strip().split() for _ in range(N)], dtype=np.int), axis=0)))"
   ]
  },
  {
   "cell_type": "markdown",
   "metadata": {},
   "source": [
    " "
   ]
  },
  {
   "cell_type": "markdown",
   "metadata": {},
   "source": [
    "### Problem 10: Min and Max"
   ]
  },
  {
   "cell_type": "markdown",
   "metadata": {},
   "source": [
    "Perform the min function over axis 1 and then find the max of that. For the detailed problem statement, [visit here](https://www.hackerrank.com/challenges/np-min-and-max/problem)."
   ]
  },
  {
   "cell_type": "code",
   "execution_count": null,
   "metadata": {},
   "outputs": [],
   "source": [
    "N, _ = [int(tmp) for tmp in input().strip().split()]\n",
    "print(np.max(np.min(np.array([input().strip().split() for _ in range(N)], dtype=np.int), axis=1)))"
   ]
  },
  {
   "cell_type": "markdown",
   "metadata": {},
   "source": [
    " "
   ]
  },
  {
   "cell_type": "markdown",
   "metadata": {},
   "source": [
    "### Problem 11: Mean, Var, and Std"
   ]
  },
  {
   "cell_type": "markdown",
   "metadata": {},
   "source": [
    "Find the mean along axis 1, var along axis 0 and std along axis None. For the detailed problem statement, [visit here](https://www.hackerrank.com/challenges/np-mean-var-and-std/problem)."
   ]
  },
  {
   "cell_type": "code",
   "execution_count": null,
   "metadata": {},
   "outputs": [],
   "source": [
    "N, _ = [int(tmp) for tmp in input().strip().split()]\n",
    "input_array = np.array([input().strip().split() for _ in range(N)], dtype=np.int)\n",
    "print(np.mean(input_array, axis=1))\n",
    "print(np.var(input_array, axis=0))\n",
    "print(np.std(input_array))"
   ]
  },
  {
   "cell_type": "markdown",
   "metadata": {},
   "source": [
    " "
   ]
  },
  {
   "cell_type": "markdown",
   "metadata": {},
   "source": [
    "### Problem 12: Dot and Cross"
   ]
  },
  {
   "cell_type": "markdown",
   "metadata": {},
   "source": [
    "Compute the matrix product. For the detailed problem statement, [visit here](https://www.hackerrank.com/challenges/np-dot-and-cross/problem)."
   ]
  },
  {
   "cell_type": "code",
   "execution_count": null,
   "metadata": {},
   "outputs": [],
   "source": [
    "N = int(input().strip())\n",
    "input_array_1 = np.array([input().strip().split() for _ in range(N)], dtype=np.int)\n",
    "input_array_2 = np.array([input().strip().split() for _ in range(N)], dtype=np.int)\n",
    "print(np.dot(input_array_1, input_array_2))"
   ]
  },
  {
   "cell_type": "markdown",
   "metadata": {},
   "source": [
    " "
   ]
  },
  {
   "cell_type": "markdown",
   "metadata": {},
   "source": [
    "### Problem 13: Inner and Outer"
   ]
  },
  {
   "cell_type": "markdown",
   "metadata": {},
   "source": [
    "Compute the inner and outer product. For the detailed problem statement, [visit here](https://www.hackerrank.com/challenges/np-inner-and-outer/problem)."
   ]
  },
  {
   "cell_type": "code",
   "execution_count": null,
   "metadata": {},
   "outputs": [],
   "source": [
    "input_array_1 = np.array(input().strip().split(), dtype=np.int)\n",
    "input_array_2 = np.array(input().strip().split(), dtype=np.int)\n",
    "print(np.inner(input_array_1, input_array_2))\n",
    "print(np.outer(input_array_1, input_array_2))"
   ]
  },
  {
   "cell_type": "markdown",
   "metadata": {},
   "source": [
    " "
   ]
  },
  {
   "cell_type": "markdown",
   "metadata": {},
   "source": [
    "### Problem 14: Polynomials"
   ]
  },
  {
   "cell_type": "markdown",
   "metadata": {},
   "source": [
    "Coefficients of a polynomial are given. Find the value of the polynomial at the given point. For the detailed problem statement, [visit here](https://www.hackerrank.com/challenges/np-polynomials/problem)."
   ]
  },
  {
   "cell_type": "code",
   "execution_count": null,
   "metadata": {},
   "outputs": [],
   "source": [
    "print(np.polyval([float(tmp) for tmp in input().strip().split()], int(input())))"
   ]
  },
  {
   "cell_type": "markdown",
   "metadata": {},
   "source": [
    " "
   ]
  },
  {
   "cell_type": "markdown",
   "metadata": {},
   "source": [
    "### Problem 15: Linear Algebra"
   ]
  },
  {
   "cell_type": "markdown",
   "metadata": {},
   "source": [
    "Find the determinant. For the detailed problem statement, [visit here](https://www.hackerrank.com/challenges/np-linear-algebra/problem)."
   ]
  },
  {
   "cell_type": "code",
   "execution_count": null,
   "metadata": {},
   "outputs": [],
   "source": [
    "N = int(input().strip())\n",
    "print(round(np.linalg.det([list(map(float, input().strip().split())) for _ in range(N)]), 2))"
   ]
  }
 ],
 "metadata": {
  "kernelspec": {
   "display_name": "Python 3",
   "language": "python",
   "name": "python3"
  },
  "language_info": {
   "codemirror_mode": {
    "name": "ipython",
    "version": 3
   },
   "file_extension": ".py",
   "mimetype": "text/x-python",
   "name": "python",
   "nbconvert_exporter": "python",
   "pygments_lexer": "ipython3",
   "version": "3.7.6"
  }
 },
 "nbformat": 4,
 "nbformat_minor": 4
}
