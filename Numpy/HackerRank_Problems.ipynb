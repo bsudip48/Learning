{
 "cells": [
  {
   "cell_type": "code",
   "execution_count": null,
   "metadata": {},
   "outputs": [],
   "source": [
    "import numpy as np"
   ]
  },
  {
   "cell_type": "markdown",
   "metadata": {},
   "source": [
    "Arrays: https://www.hackerrank.com/challenges/np-arrays/problem"
   ]
  },
  {
   "cell_type": "code",
   "execution_count": null,
   "metadata": {},
   "outputs": [],
   "source": [
    "print(np.array(input().strip().split(), dtype='float')[::-1])"
   ]
  },
  {
   "cell_type": "markdown",
   "metadata": {},
   "source": [
    "Shape and Reshape: https://www.hackerrank.com/challenges/np-shape-reshape/problem"
   ]
  },
  {
   "cell_type": "code",
   "execution_count": null,
   "metadata": {},
   "outputs": [],
   "source": [
    "print(np.reshape(np.array('1 2 3 4 5 6 7 8 9'.strip().split(), dtype='int'), (3, 3)))"
   ]
  },
  {
   "cell_type": "markdown",
   "metadata": {},
   "source": [
    "Transpose and Flatten: https://www.hackerrank.com/challenges/np-transpose-and-flatten/problem"
   ]
  },
  {
   "cell_type": "code",
   "execution_count": null,
   "metadata": {},
   "outputs": [],
   "source": [
    "N, _ = [int(tmp) for tmp in input().strip().split()]\n",
    "ip_array = np.array([input().strip().split() for _ in range(N)], dtype='int')\n",
    "print(np.transpose(ip_array))\n",
    "print(ip_array.flatten())"
   ]
  },
  {
   "cell_type": "markdown",
   "metadata": {},
   "source": [
    "Concatenate: https://www.hackerrank.com/challenges/np-concatenate/problem"
   ]
  },
  {
   "cell_type": "code",
   "execution_count": null,
   "metadata": {},
   "outputs": [],
   "source": [
    "N, M, _ = [int(tmp) for tmp in input().strip().split()]\n",
    "ip_array_1 = np.array([input().strip().split() for _ in range(N)], dtype='int')\n",
    "ip_array_2 = np.array([input().strip().split() for _ in range(M)], dtype='int')\n",
    "print(np.concatenate((ip_array_1, ip_array_2), axis=0))"
   ]
  },
  {
   "cell_type": "code",
   "execution_count": null,
   "metadata": {},
   "outputs": [],
   "source": [
    "Zeros and Ones: https://www.hackerrank.com/challenges/np-zeros-and-ones/problem"
   ]
  },
  {
   "cell_type": "code",
   "execution_count": null,
   "metadata": {},
   "outputs": [],
   "source": [
    "size = tuple([int(tmp) for tmp in input().strip().split()])\n",
    "print(np.zeros(size, dtype='int'))\n",
    "print(np.ones(size, dtype='int'))"
   ]
  },
  {
   "cell_type": "markdown",
   "metadata": {},
   "source": [
    "Eye and Identity: https://www.hackerrank.com/challenges/np-eye-and-identity/problem"
   ]
  },
  {
   "cell_type": "code",
   "execution_count": null,
   "metadata": {},
   "outputs": [],
   "source": [
    "size = [int(tmp) for tmp in input().strip().split()]\n",
    "print(np.eye(size[0], size[1], k=0))"
   ]
  },
  {
   "cell_type": "markdown",
   "metadata": {},
   "source": [
    "Array Mathematics: https://www.hackerrank.com/challenges/np-array-mathematics/problem"
   ]
  },
  {
   "cell_type": "code",
   "execution_count": null,
   "metadata": {},
   "outputs": [],
   "source": [
    "N, _ = [int(tmp) for tmp in input().strip().split()]\n",
    "ip_array_1 = np.array([input().strip().split() for _ in range(N)], dtype='int')\n",
    "ip_array_2 = np.array([input().strip().split() for _ in range(N)], dtype='int')\n",
    "print(np.add(ip_array_1, ip_array_2))\n",
    "print(np.subtract(ip_array_1, ip_array_2))\n",
    "print(np.multiply(ip_array_1, ip_array_2))\n",
    "print(np.divide(ip_array_1, ip_array_2).astype('int'))\n",
    "print(np.mod(ip_array_1, ip_array_2))\n",
    "print(np.power(ip_array_1, ip_array_2))"
   ]
  },
  {
   "cell_type": "markdown",
   "metadata": {},
   "source": [
    "Floor, Ceil and Rint: https://www.hackerrank.com/challenges/floor-ceil-and-rint/problem"
   ]
  },
  {
   "cell_type": "code",
   "execution_count": null,
   "metadata": {},
   "outputs": [],
   "source": [
    "input_array = np.array(input().strip().split(), dtype=np.float)\n",
    "print(np.floor(input_array))\n",
    "print(np.ceil(input_array))\n",
    "print(np.rint(input_array))"
   ]
  },
  {
   "cell_type": "markdown",
   "metadata": {},
   "source": [
    "Sum and Prod: https://www.hackerrank.com/challenges/np-sum-and-prod/problem"
   ]
  },
  {
   "cell_type": "code",
   "execution_count": null,
   "metadata": {},
   "outputs": [],
   "source": [
    "N, _ = [int(tmp) for tmp in input().strip().split()]\n",
    "print(np.prod(np.sum(np.array([input().strip().split() for _ in range(N)], dtype=np.int), axis=0)))"
   ]
  },
  {
   "cell_type": "markdown",
   "metadata": {},
   "source": [
    "Min and Max: https://www.hackerrank.com/challenges/np-min-and-max/problem"
   ]
  },
  {
   "cell_type": "code",
   "execution_count": null,
   "metadata": {},
   "outputs": [],
   "source": [
    "N, _ = [int(tmp) for tmp in input().strip().split()]\n",
    "print(np.max(np.min(np.array([input().strip().split() for _ in range(N)], dtype=np.int), axis=1)))"
   ]
  },
  {
   "cell_type": "markdown",
   "metadata": {},
   "source": [
    "Mean, Var, and Std: https://www.hackerrank.com/challenges/np-mean-var-and-std/problem"
   ]
  },
  {
   "cell_type": "code",
   "execution_count": null,
   "metadata": {},
   "outputs": [],
   "source": [
    "N, _ = [int(tmp) for tmp in input().strip().split()]\n",
    "input_array = np.array([input().strip().split() for _ in range(N)], dtype=np.int)\n",
    "print(np.mean(input_array, axis=1))\n",
    "print(np.var(input_array, axis=0))\n",
    "print(np.std(input_array))"
   ]
  },
  {
   "cell_type": "code",
   "execution_count": null,
   "metadata": {},
   "outputs": [],
   "source": [
    "N = int(input().strip())\n",
    "input_array_1 = np.array([input().strip().split() for _ in range(N)], dtype=np.int)\n",
    "input_array_2 = np.array([input().strip().split() for _ in range(N)], dtype=np.int)\n",
    "print(np.dot(input_array_1, input_array_2))"
   ]
  },
  {
   "cell_type": "markdown",
   "metadata": {},
   "source": [
    "Inner and Outer: https://www.hackerrank.com/challenges/np-inner-and-outer/problem"
   ]
  },
  {
   "cell_type": "code",
   "execution_count": null,
   "metadata": {},
   "outputs": [],
   "source": [
    "input_array_1 = np.array(input().strip().split(), dtype=np.int)\n",
    "input_array_2 = np.array(input().strip().split(), dtype=np.int)\n",
    "print(np.inner(input_array_1, input_array_2))\n",
    "print(np.outer(input_array_1, input_array_2))"
   ]
  },
  {
   "cell_type": "markdown",
   "metadata": {},
   "source": [
    "Polynomials: https://www.hackerrank.com/challenges/np-polynomials/problem"
   ]
  },
  {
   "cell_type": "code",
   "execution_count": null,
   "metadata": {},
   "outputs": [],
   "source": [
    "print(np.polyval([float(tmp) for tmp in input().strip().split()], int(input())))"
   ]
  },
  {
   "cell_type": "markdown",
   "metadata": {},
   "source": [
    "Linear Algebra: https://www.hackerrank.com/challenges/np-linear-algebra/problem"
   ]
  },
  {
   "cell_type": "code",
   "execution_count": null,
   "metadata": {},
   "outputs": [],
   "source": [
    "N = int(input().strip())\n",
    "print(round(np.linalg.det([list(map(float, input().strip().split())) for _ in range(N)]), 2))"
   ]
  }
 ],
 "metadata": {
  "kernelspec": {
   "display_name": "Python 3",
   "language": "python",
   "name": "python3"
  },
  "language_info": {
   "codemirror_mode": {
    "name": "ipython",
    "version": 3
   },
   "file_extension": ".py",
   "mimetype": "text/x-python",
   "name": "python",
   "nbconvert_exporter": "python",
   "pygments_lexer": "ipython3",
   "version": "3.7.6"
  }
 },
 "nbformat": 4,
 "nbformat_minor": 4
}
